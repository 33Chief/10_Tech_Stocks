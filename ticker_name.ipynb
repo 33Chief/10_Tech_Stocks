{
 "cells": [
  {
   "cell_type": "code",
   "execution_count": 1,
   "metadata": {},
   "outputs": [],
   "source": [
    "from splinter import Browser\n",
    "from bs4 import BeautifulSoup as bs\n",
    "import time\n",
    "import pandas as pd\n",
    "from webdriver_manager.chrome import ChromeDriverManager"
   ]
  },
  {
   "cell_type": "code",
   "execution_count": 2,
   "metadata": {},
   "outputs": [
    {
     "name": "stderr",
     "output_type": "stream",
     "text": [
      "\n",
      "\n",
      "====== WebDriver manager ======\n",
      "Current google-chrome version is 91.0.4472\n",
      "Get LATEST driver version for 91.0.4472\n",
      "Get LATEST driver version for 91.0.4472\n",
      "Trying to download new driver from https://chromedriver.storage.googleapis.com/91.0.4472.19/chromedriver_win32.zip\n",
      "Driver has been saved in cache [C:\\Users\\dkrug\\.wdm\\drivers\\chromedriver\\win32\\91.0.4472.19]\n"
     ]
    }
   ],
   "source": [
    "#Set up browser and visit website\n",
    "executable_path = {'executable_path': ChromeDriverManager().install()}\n",
    "browser = Browser('chrome', **executable_path, headless=False)\n",
    "url = \"https://www.kiplinger.com/investing/602906/best-tech-stocks-for-the-rest-of-2021\"\n",
    "browser.visit(url)"
   ]
  },
  {
   "cell_type": "code",
   "execution_count": 3,
   "metadata": {},
   "outputs": [],
   "source": [
    "#set up BeautifulSoup\n",
    "html = browser.html\n",
    "soup = bs(html, \"html.parser\")"
   ]
  },
  {
   "cell_type": "code",
   "execution_count": 40,
   "metadata": {
    "scrolled": true
   },
   "outputs": [
    {
     "data": {
      "text/plain": [
       "[<p class=\"polaris__single-slide--meta\"><span>4 of 11</span></p>,\n",
       " <p class=\"polaris__image--credits\">Getty Images</p>,\n",
       " <p><strong>Medallia</strong> (<a class=\"polaris__link\" href=\"https://www.kiplinger.com/tfn/ticker.html?ticker=mdla\" rel=\"noopener\" target=\"_blank\">MDLA</a>, $27.49) is a \"big data\" and <a class=\"polaris__link\" href=\"https://www.kiplinger.com/investing/stocks/602568/can-ai-beat-the-market-stocks-to-watch\">artificial intelligence</a> (AI) company. It seeks to analyze data and provide structure to the unstructured information that many businesses currently don't know how to wade through on their own.  </p>,\n",
       " <p>You might be saying to yourself that all that is just Silicon Valley hoopla – and you're right!</p>,\n",
       " <p>But consider this practical example: a financial firm digs through its customer data to find \"signals\" hinting that some account holders are likely to start investing in stocks or possibly take out a mortgage in the next few months. It then puts well-timed and personalized marketing in front of them. </p>,\n",
       " <p>Sounds much more meaningful than a bunch of buzzwords now, doesn't it?</p>,\n",
       " <p>That's effectively what Medallia does – it helps organizations maximize the potential of their customers, partners and employees.</p>,\n",
       " <p>Just in case you're still not convinced, consider the fact that this company saw its sales surge from $402 million in FY2020 to $477 million in FY2021 that ended in March (19% growth). And revenues are projected to rise to $560 million this fiscal year (another 17% increase).</p>,\n",
       " <p>While the tech stock has stalled following a red-hot run that lasted from November through February, it remains very much in-favor among Wall Street analysts thanks to its unique value proposition and impressive growth story.</p>]"
      ]
     },
     "execution_count": 40,
     "metadata": {},
     "output_type": "execute_result"
    }
   ],
   "source": [
    "divs = soup.find_all('div', class_='polaris__simple-grid--main')[5]\n",
    "medallia = divs.find_all('p')\n",
    "medallia"
   ]
  },
  {
   "cell_type": "code",
   "execution_count": 42,
   "metadata": {},
   "outputs": [
    {
     "data": {
      "text/plain": [
       "[<p class=\"polaris__single-slide--meta\"><span>8 of 11</span></p>,\n",
       " <p class=\"polaris__image--credits\">Getty Images</p>,\n",
       " <p>You may be familiar with the old-school digital payments company <strong>PayPal Holdings</strong> (<a class=\"polaris__link\" href=\"https://www.kiplinger.com/tfn/ticker.html?ticker=pypl\" rel=\"noopener\" target=\"_blank\">PYPL</a>, $262.17) from your days prowling online auctions a decade ago. But you may not know that this firm was acquired by eBay (<a class=\"polaris__link\" href=\"https://www.kiplinger.com/tfn/ticker.html?ticker=ebay\" rel=\"noopener\" target=\"_blank\">EBAY</a>) for $1.5 billion almost 20 years ago, and it is now valued at roughly 200 times that amount. </p>,\n",
       " <p>PYPL has been very busy staying ahead of the curve when it comes to mobile payments and cashless transactions.</p>,\n",
       " <p>For instance, it rolled up digital payments competitors Venmo and Xoom in recent years to currently command a network of almost 400 million active accounts that moved total payments volume of $285 billion last quarter.</p>,\n",
       " <p>What's more, PYPL has moved quickly to integrate budding cryptocurrencies into its platform – both to buy and hold as investments, or to pass along in transactions.</p>,\n",
       " <p>The result is a digital finance powerhouse that is forecast to top $31 billion in total revenues in the next fiscal year. </p>,\n",
       " <p>Clearly when you have scale like this tech stock has, the tiny fees you layer on add up in a hurry. And while declining traffic at brick-and-mortar bank branches was already well underway in recent years, the pandemic has only accelerated the move away from traditional banking – which could help catapult the mobile payments giant PayPal to even greater success in the years ahead.</p>]"
      ]
     },
     "execution_count": 42,
     "metadata": {},
     "output_type": "execute_result"
    }
   ],
   "source": [
    "divs = soup.find_all('div', class_='polaris__simple-grid--main')[9]\n",
    "paypal = divs.find_all('p')\n",
    "paypal"
   ]
  },
  {
   "cell_type": "code",
   "execution_count": 43,
   "metadata": {},
   "outputs": [
    {
     "name": "stdout",
     "output_type": "stream",
     "text": [
      "PayPal Holdings\n",
      "matching links:2\n",
      "PYPL\n"
     ]
    }
   ],
   "source": [
    "for p in paypal:\n",
    "    #print(p.text)\n",
    "    name_html = p.find('strong')\n",
    "    \n",
    "    if name_html:\n",
    "        name = name_html.text\n",
    "        print(name)\n",
    "        print(f\"matching links:{len(p.find_all('a', class_='polaris__link'))}\")\n",
    "        symbol = p.find('a', class_='polaris__link').text\n",
    "        print(symbol)"
   ]
  },
  {
   "cell_type": "code",
   "execution_count": 47,
   "metadata": {
    "scrolled": true
   },
   "outputs": [
    {
     "name": "stdout",
     "output_type": "stream",
     "text": [
      "{'ACIW': 'ACI Worldwide', 'ACLS': 'Axcelis Technologies', 'COHU': 'Cohu', 'MDLA': 'Medallia', 'MSFT': 'Microsoft', 'PANW': 'Palo Alto Networks', 'PAR': 'PAR Technology', 'PYPL': 'PayPal Holdings', 'CRM': 'Salesforce.com', 'NOW': 'ServiceNow', 'TWLO': 'Twilio'}\n"
     ]
    }
   ],
   "source": [
    "ticker_company = {}\n",
    "\n",
    "divs = soup.find_all('div', class_='polaris__simple-grid--main')[2:]\n",
    "\n",
    "for div in divs:\n",
    "    paragraphs = div.find_all('p')\n",
    "#len(paragraphs)\n",
    "    for p in paragraphs:\n",
    "    #print(p.text)\n",
    "        name_html = p.find('strong')\n",
    "    \n",
    "        if name_html:\n",
    "            name = name_html.text\n",
    "            #print(name)\n",
    "            #print(f\"matching links:{len(p.find_all('a', class_='polaris__link'))}\")\n",
    "            #the first links are always the ticker symbol\n",
    "            symbol = p.find('a', class_='polaris__link').text\n",
    "            #print(symbol)\n",
    "            ticker_company[symbol] = name\n",
    "print(ticker_company)"
   ]
  },
  {
   "cell_type": "code",
   "execution_count": 50,
   "metadata": {},
   "outputs": [
    {
     "data": {
      "text/html": [
       "<div>\n",
       "<style scoped>\n",
       "    .dataframe tbody tr th:only-of-type {\n",
       "        vertical-align: middle;\n",
       "    }\n",
       "\n",
       "    .dataframe tbody tr th {\n",
       "        vertical-align: top;\n",
       "    }\n",
       "\n",
       "    .dataframe thead th {\n",
       "        text-align: right;\n",
       "    }\n",
       "</style>\n",
       "<table border=\"1\" class=\"dataframe\">\n",
       "  <thead>\n",
       "    <tr style=\"text-align: right;\">\n",
       "      <th></th>\n",
       "      <th>symbol</th>\n",
       "      <th>company_name</th>\n",
       "    </tr>\n",
       "  </thead>\n",
       "  <tbody>\n",
       "    <tr>\n",
       "      <th>0</th>\n",
       "      <td>ACIW</td>\n",
       "      <td>ACI Worldwide</td>\n",
       "    </tr>\n",
       "    <tr>\n",
       "      <th>1</th>\n",
       "      <td>ACLS</td>\n",
       "      <td>Axcelis Technologies</td>\n",
       "    </tr>\n",
       "    <tr>\n",
       "      <th>2</th>\n",
       "      <td>COHU</td>\n",
       "      <td>Cohu</td>\n",
       "    </tr>\n",
       "    <tr>\n",
       "      <th>3</th>\n",
       "      <td>MDLA</td>\n",
       "      <td>Medallia</td>\n",
       "    </tr>\n",
       "    <tr>\n",
       "      <th>4</th>\n",
       "      <td>MSFT</td>\n",
       "      <td>Microsoft</td>\n",
       "    </tr>\n",
       "    <tr>\n",
       "      <th>5</th>\n",
       "      <td>PANW</td>\n",
       "      <td>Palo Alto Networks</td>\n",
       "    </tr>\n",
       "    <tr>\n",
       "      <th>6</th>\n",
       "      <td>PAR</td>\n",
       "      <td>PAR Technology</td>\n",
       "    </tr>\n",
       "    <tr>\n",
       "      <th>7</th>\n",
       "      <td>PYPL</td>\n",
       "      <td>PayPal Holdings</td>\n",
       "    </tr>\n",
       "    <tr>\n",
       "      <th>8</th>\n",
       "      <td>CRM</td>\n",
       "      <td>Salesforce.com</td>\n",
       "    </tr>\n",
       "    <tr>\n",
       "      <th>9</th>\n",
       "      <td>NOW</td>\n",
       "      <td>ServiceNow</td>\n",
       "    </tr>\n",
       "    <tr>\n",
       "      <th>10</th>\n",
       "      <td>TWLO</td>\n",
       "      <td>Twilio</td>\n",
       "    </tr>\n",
       "  </tbody>\n",
       "</table>\n",
       "</div>"
      ],
      "text/plain": [
       "   symbol          company_name\n",
       "0    ACIW         ACI Worldwide\n",
       "1    ACLS  Axcelis Technologies\n",
       "2    COHU                  Cohu\n",
       "3    MDLA              Medallia\n",
       "4    MSFT             Microsoft\n",
       "5    PANW    Palo Alto Networks\n",
       "6     PAR        PAR Technology\n",
       "7    PYPL       PayPal Holdings\n",
       "8     CRM        Salesforce.com\n",
       "9     NOW            ServiceNow\n",
       "10   TWLO                Twilio"
      ]
     },
     "execution_count": 50,
     "metadata": {},
     "output_type": "execute_result"
    }
   ],
   "source": [
    "ticker_company_df = pd.DataFrame(ticker_company.items(), columns=['symbol', 'company_name'])\n",
    "ticker_company_df"
   ]
  }
 ],
 "metadata": {
  "kernelspec": {
   "display_name": "Python 3",
   "language": "python",
   "name": "python3"
  },
  "language_info": {
   "codemirror_mode": {
    "name": "ipython",
    "version": 3
   },
   "file_extension": ".py",
   "mimetype": "text/x-python",
   "name": "python",
   "nbconvert_exporter": "python",
   "pygments_lexer": "ipython3",
   "version": "3.8.5"
  }
 },
 "nbformat": 4,
 "nbformat_minor": 4
}
